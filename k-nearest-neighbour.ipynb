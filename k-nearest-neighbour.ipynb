{
 "cells": [
  {
   "cell_type": "code",
   "execution_count": 15,
   "metadata": {},
   "outputs": [],
   "source": [
    "#! /usr/bin/python3\n",
    "import pandas as pd \n",
    "import seaborn as sns \n",
    "import matplotlib.pyplot as plt \n",
    "import numpy as np \n",
    "from sklearn.neighbors import KNeighborsClassifier\n",
    "from sklearn.preprocessing import LabelEncoder\n",
    "from sklearn import metrics"
   ]
  },
  {
   "cell_type": "code",
   "execution_count": 22,
   "metadata": {},
   "outputs": [],
   "source": [
    "# method declaration section \n",
    "def accurecyTest(feature,label):\n",
    "    print(\"Accuracy: \",metrics.accuracy_score(feature,label))\n",
    "    \n",
    "def main():\n",
    "    weather=['Sunny','Sunny','Overcast','Rainy','Rainy','Rainy','Overcast','Sunny','Sunny',\n",
    "    'Rainy','Sunny','Overcast','Overcast','Rainy']\n",
    "    # Second Feature\n",
    "    temp=['Hot','Hot','Hot','Mild','Cool','Cool','Cool','Mild','Cool','Mild','Mild','Mild','Hot','Mild']\n",
    "\n",
    "    # Label or target varible\n",
    "    play=['No','No','Yes','Yes','Yes','No','Yes','No','Yes','Yes','Yes','Yes','Yes','No']\n",
    "    \n",
    "    le = LabelEncoder()\n",
    "    weather_encode = le.fit_transform(weather)\n",
    "    temp_encode = le.fit_transform(temp)\n",
    "    label = le.fit_transform(play)\n",
    "    features = list(zip(weather_encode,temp_encode)) # combining weather and temp into single listof tuples\n",
    "    \n",
    "    # creating the model\n",
    "    model = KNeighborsClassifier(n_neighbors=3) # n_neightbors/k = 3 neighbors\n",
    "    \n",
    "    model.fit(features,label)\n",
    "    \n",
    "    predicted = model.predict([[0,2]]) # 0 : Overcast , 2 : Mild\n",
    "    print(predicted)\n",
    "    accurecyTest(weather_encode,label)\n",
    "    accurecyTest(temp_encode,label)\n"
   ]
  },
  {
   "cell_type": "code",
   "execution_count": 23,
   "metadata": {},
   "outputs": [
    {
     "name": "stdout",
     "output_type": "stream",
     "text": [
      "[1]\n",
      "Accuracy:  0.21428571428571427\n",
      "Accuracy:  0.21428571428571427\n"
     ]
    }
   ],
   "source": [
    "\n",
    "if __name__ == \"__main__\":\n",
    "    main()"
   ]
  },
  {
   "cell_type": "code",
   "execution_count": null,
   "metadata": {},
   "outputs": [],
   "source": []
  }
 ],
 "metadata": {
  "kernelspec": {
   "display_name": "Python 3",
   "language": "python",
   "name": "python3"
  },
  "language_info": {
   "codemirror_mode": {
    "name": "ipython",
    "version": 3
   },
   "file_extension": ".py",
   "mimetype": "text/x-python",
   "name": "python",
   "nbconvert_exporter": "python",
   "pygments_lexer": "ipython3",
   "version": "3.8.3"
  }
 },
 "nbformat": 4,
 "nbformat_minor": 4
}
