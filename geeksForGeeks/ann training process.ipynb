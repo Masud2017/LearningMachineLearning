{
 "cells": [
  {
   "cell_type": "code",
   "execution_count": 1,
   "id": "6b98b862",
   "metadata": {},
   "outputs": [],
   "source": [
    "from joblib.numpy_pickle_utils import xrange\n",
    "from numpy import *"
   ]
  },
  {
   "cell_type": "code",
   "execution_count": 2,
   "id": "11c80b60",
   "metadata": {},
   "outputs": [],
   "source": [
    "class NeuralNet (object):\n",
    "    def __init__(self):\n",
    "        # Generate random number\n",
    "        random.seed(1)\n",
    "        \n",
    "        # Assign random weights to a 3 x 1 matrix\n",
    "        self.synaptic_weights = 2 * random.random((3,1)) - 1\n",
    "        \n",
    "    # the sigmoid function \n",
    "    def __sigmoid(self,x):\n",
    "        return 1/(1+exp(-x))\n",
    "    # The derivative of the sigmoid function.\n",
    "    # This isthe gradient of the sigmoid\n",
    "    def __sigmoid_derivative(self,x):\n",
    "        return x* (1-x)\n",
    "    \n",
    "    # Train the neural network and adjust the wieghts each time\n",
    "    def train(self, inputs, outputs, training_iterations):\n",
    "        for iteration in xrange(training_iterations):\n",
    "            # pass the training set through the network\n",
    "            output = self.learn(inputs)\n",
    "            # calculate the error\n",
    "            error = outputs - output\n",
    "            # adjust the wights by a factor\n",
    "            factor = dot (inputs.T,error * self.__sigmoid_derivative(output))\n",
    "            self.synaptic_weights += factor\n",
    "        # The neural network thinks.\n",
    "    def learn(self,inputs):\n",
    "        return self.__sigmoid(dot(inputs,self.synaptic_weights))\n",
    "            \n",
    "    "
   ]
  },
  {
   "cell_type": "code",
   "execution_count": 3,
   "id": "81d04ef0",
   "metadata": {},
   "outputs": [
    {
     "name": "stdout",
     "output_type": "stream",
     "text": [
      "[0.9897704]\n"
     ]
    }
   ],
   "source": [
    "if __name__ == \"__main__\":\n",
    "    # Initialize\n",
    "    neural_network = NeuralNet()\n",
    "    \n",
    "    # The training set\n",
    "    inputs = array([[0,1,1],[1,0,0],[1,0,1]])\n",
    "    outputs = array([[1,0,1]]).T\n",
    "    \n",
    "    # Train the neural network\n",
    "    neural_network.train(inputs,outputs,10000)\n",
    "    \n",
    "    # Test the neural network with a test example\n",
    "    print(neural_network.learn(array([1,0,1])))"
   ]
  },
  {
   "cell_type": "code",
   "execution_count": null,
   "id": "a215e6eb",
   "metadata": {},
   "outputs": [],
   "source": []
  },
  {
   "cell_type": "code",
   "execution_count": null,
   "id": "bf4b6cdb",
   "metadata": {},
   "outputs": [],
   "source": []
  }
 ],
 "metadata": {
  "kernelspec": {
   "display_name": "Python 3",
   "language": "python",
   "name": "python3"
  },
  "language_info": {
   "codemirror_mode": {
    "name": "ipython",
    "version": 3
   },
   "file_extension": ".py",
   "mimetype": "text/x-python",
   "name": "python",
   "nbconvert_exporter": "python",
   "pygments_lexer": "ipython3",
   "version": "3.8.8"
  }
 },
 "nbformat": 4,
 "nbformat_minor": 5
}
