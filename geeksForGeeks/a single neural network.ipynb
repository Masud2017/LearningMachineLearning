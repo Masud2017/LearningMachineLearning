{
 "cells": [
  {
   "cell_type": "code",
   "execution_count": 1,
   "id": "bb174659",
   "metadata": {},
   "outputs": [],
   "source": [
    "from numpy import exp, array, random, dot, tanh"
   ]
  },
  {
   "cell_type": "code",
   "execution_count": 8,
   "id": "7a481053",
   "metadata": {},
   "outputs": [],
   "source": [
    "class NeuralNet:\n",
    "    def __init__ (self):\n",
    "        # Using seed to make sure it'll\n",
    "        # generate same weights in every run\n",
    "        random.seed(1)\n",
    "        \n",
    "        # 3 x 1 weight Matrix \n",
    "        self.weight_matrix = 2 * random.random((3,1)) - 1\n",
    "        \n",
    "    # tanh as activation function\n",
    "    def tanh(self,x):\n",
    "        return tanh(x)\n",
    "    # derivatieve of tanh function.\n",
    "    # needed to calculate the gradients.\n",
    "    def tanh_derivative(self,x):\n",
    "        return 1.0 - tanh(x) ** 2\n",
    "    # forward propagation\n",
    "    def forward_propagation(self,inputs):\n",
    "        return self.tanh(dot(inputs,self.weight_matrix))\n",
    "    \n",
    "    # training the neural netowrk\n",
    "    def train(self,train_inputs, train_outptus,num_train_iterations):\n",
    "        # number of iterations we want to \n",
    "        # perform for this set of input\n",
    "        for iteration in range(num_train_iterations):\n",
    "            output = self.forward_propagation(train_inputs)\n",
    "            \n",
    "            # calculate the error in the output\n",
    "            error = train_outputs - output\n",
    "            \n",
    "            # multiply the error by input and then \n",
    "            # by gradient of tanh function to calculate =\n",
    "            # teh adjustment needs to be made in weights\n",
    "            adjustment = dot(train_inputs.T, error*self.tanh_derivative(output))\n",
    "            \n",
    "            # Adjust teh weight matrix\n",
    "            self.weight_matrix += adjustment\n",
    "            \n",
    "    "
   ]
  },
  {
   "cell_type": "code",
   "execution_count": 11,
   "id": "3d306c1e",
   "metadata": {},
   "outputs": [
    {
     "name": "stdout",
     "output_type": "stream",
     "text": [
      "Random weights at the start of the training\n",
      "[[-0.16595599]\n",
      " [ 0.44064899]\n",
      " [-0.99977125]]\n",
      "New weights after training\n",
      "[[5.39428067]\n",
      " [0.19482422]\n",
      " [0.34317086]]\n",
      "Testing network on new examples->\n",
      "[0.99995873]\n"
     ]
    }
   ],
   "source": [
    "if __name__ == \"__main__\":\n",
    "    # initialize\n",
    "    neural_network = NeuralNet()\n",
    "    \n",
    "    print(\"Random weights at the start of the training\")\n",
    "    print(neural_network.weight_matrix)\n",
    "    \n",
    "    train_inputs = array([[0, 0, 1], [1, 1, 1], [1, 0, 1], [0, 1, 1]])\n",
    "    train_outputs = array([[0, 1, 1, 0]]).T\n",
    "    \n",
    "    neural_network.train(train_inputs, train_outputs, 10000)\n",
    "    \n",
    "    print ('New weights after training')\n",
    "    print(neural_network.weight_matrix)\n",
    "    \n",
    "    # Test the neural netowrk with a new situation\n",
    "    print(\"Testing network on new examples->\")\n",
    "    print(neural_network.forward_propagation(array([1,0,0])))"
   ]
  },
  {
   "cell_type": "code",
   "execution_count": null,
   "id": "dce10553",
   "metadata": {},
   "outputs": [],
   "source": []
  },
  {
   "cell_type": "code",
   "execution_count": null,
   "id": "edba1a99",
   "metadata": {},
   "outputs": [],
   "source": []
  }
 ],
 "metadata": {
  "kernelspec": {
   "display_name": "Python 3",
   "language": "python",
   "name": "python3"
  },
  "language_info": {
   "codemirror_mode": {
    "name": "ipython",
    "version": 3
   },
   "file_extension": ".py",
   "mimetype": "text/x-python",
   "name": "python",
   "nbconvert_exporter": "python",
   "pygments_lexer": "ipython3",
   "version": "3.8.8"
  }
 },
 "nbformat": 4,
 "nbformat_minor": 5
}
