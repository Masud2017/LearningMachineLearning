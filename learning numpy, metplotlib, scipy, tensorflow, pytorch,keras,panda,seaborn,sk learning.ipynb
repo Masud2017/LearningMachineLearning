{
 "cells": [
  {
   "cell_type": "code",
   "execution_count": 29,
   "metadata": {},
   "outputs": [],
   "source": [
    "import pandas as pd\n",
    "import numpy as np\n",
    "import matplotlib.pyplot as plt"
   ]
  },
  {
   "cell_type": "code",
   "execution_count": 30,
   "metadata": {},
   "outputs": [],
   "source": [
    "def main():\n",
    "    print(np.array([1,2,3,4]))\n",
    "    print(np.array([1,2,3,4,5,6],ndmin=3))\n",
    "    print(np.array([[1,2],[2,3,5]]))\n",
    "    print(np.array([1,2,3,4],dtype=complex))\n",
    "    \n",
    "    x = np.random.normal(5.0, 1.0, 100000)\n",
    "\n",
    "    plt.hist(x, 100)\n",
    "    plt.show() "
   ]
  },
  {
   "cell_type": "code",
   "execution_count": 31,
   "metadata": {},
   "outputs": [
    {
     "name": "stdout",
     "output_type": "stream",
     "text": [
      "[1 2 3 4]\n",
      "[[[1 2 3 4 5 6]]]\n",
      "[list([1, 2]) list([2, 3, 5])]\n",
      "[1.+0.j 2.+0.j 3.+0.j 4.+0.j]\n"
     ]
    },
    {
     "data": {
      "image/png": "[encoded data removed]",
      "text/plain": [
       "<Figure size 432x288 with 1 Axes>"
      ]
     },
     "metadata": {
      "needs_background": "light"
     },
     "output_type": "display_data"
    }
   ],
   "source": [
    "if __name__ == \"__main__\":\n",
    "    main()"
   ]
  },
  {
   "cell_type": "code",
   "execution_count": null,
   "metadata": {},
   "outputs": [],
   "source": []
  }
 ],
 "metadata": {
  "kernelspec": {
   "display_name": "Python 3",
   "language": "python",
   "name": "python3"
  },
  "language_info": {
   "codemirror_mode": {
    "name": "ipython",
    "version": 3
   },
   "file_extension": ".py",
   "mimetype": "text/x-python",
   "name": "python",
   "nbconvert_exporter": "python",
   "pygments_lexer": "ipython3",
   "version": "3.9.2"
  }
 },
 "nbformat": 4,
 "nbformat_minor": 4
}
