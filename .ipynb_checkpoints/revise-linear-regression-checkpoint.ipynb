{
 "cells": [
  {
   "cell_type": "code",
   "execution_count": 43,
   "metadata": {},
   "outputs": [],
   "source": [
    "import numpy as np\n",
    "import matplotlib.pyplot as plt\n",
    "from scipy import stats\n",
    "import pandas as pd\n",
    "import pandas"
   ]
  },
  {
   "cell_type": "code",
   "execution_count": 53,
   "metadata": {},
   "outputs": [],
   "source": [
    "def inspectingDiff():\n",
    "    np.random.seed(0)\n",
    "    x = 2.5 * np.random.randn(100) + 1.5 # array of 100 values with mean 1.5, stddev= 2.5\n",
    "    res = 0.5 * np.random.randn(100) # Generate 100 residual terms\n",
    "    y = 2 + 0.3 * x + res # actual values of y\n",
    "    \n",
    "    # create pandas data frame to store our x and y values\n",
    "    df = pd.DataFrame({'X':x,'Y':y})\n",
    "    \n",
    "    # show the first five rows our dataframe\n",
    "    print(df.head())\n",
    "    \n",
    "    # calculate the mean of x and y\n",
    "    xmean = np.mean(x)\n",
    "    ymean = np.mean(y)\n",
    "    \n",
    "    # calculate the terms needed for the numator and demnominator of beta\n",
    "    df['xycov'] = (df['x'] - xmean) * (df['y'] - ymean)\n",
    "    df['xvar'] = (df['x'] - xmean)**2\n",
    " \n"
   ]
  },
  {
   "cell_type": "code",
   "execution_count": 54,
   "metadata": {},
   "outputs": [],
   "source": [
    "\n",
    "\n",
    "def main():\n",
    "    x = [5,7,8,7,2,17,2,9,4,11,12,9,6]\n",
    "    y = [99,86,87,88,111,86,103,87,94,78,77,85,86]\n",
    "    \n",
    "    slope,intercept,r,p,std_err = stats.linregress(x,y)\n",
    "    def myfunc(x):\n",
    "        return slope * x + intercept\n",
    "    mymodel = list(map(myfunc,x))\n",
    "    plt.scatter(x,y,color=\"purple\")\n",
    "    plt.title(\"Linear regression\")\n",
    "    plt.plot(x,mymodel)\n",
    "    plt.xlabel(\"Speed\")\n",
    "    plt.ylabel(\"time\")\n",
    "    plt.show()"
   ]
  },
  {
   "cell_type": "code",
   "execution_count": 55,
   "metadata": {},
   "outputs": [
    {
     "data": {
      "image/png": "[encoded data removed]",
      "text/plain": [
       "<Figure size 432x288 with 1 Axes>"
      ]
     },
     "metadata": {
      "needs_background": "light"
     },
     "output_type": "display_data"
    },
    {
     "name": "stdout",
     "output_type": "stream",
     "text": [
      "          X         Y\n",
      "0  5.910131  4.714615\n",
      "1  2.500393  2.076238\n",
      "2  3.946845  2.548811\n",
      "3  7.102233  4.615368\n",
      "4  6.168895  3.264107\n"
     ]
    }
   ],
   "source": [
    "if __name__==\"__main__\":\n",
    "    main()\n",
    "    inspectingDiff()\n",
    "    "
   ]
  },
  {
   "cell_type": "code",
   "execution_count": null,
   "metadata": {},
   "outputs": [],
   "source": []
  },
  {
   "cell_type": "code",
   "execution_count": null,
   "metadata": {},
   "outputs": [],
   "source": []
  }
 ],
 "metadata": {
  "kernelspec": {
   "display_name": "Python 3",
   "language": "python",
   "name": "python3"
  },
  "language_info": {
   "codemirror_mode": {
    "name": "ipython",
    "version": 3
   },
   "file_extension": ".py",
   "mimetype": "text/x-python",
   "name": "python",
   "nbconvert_exporter": "python",
   "pygments_lexer": "ipython3",
   "version": "3.8.3"
  }
 },
 "nbformat": 4,
 "nbformat_minor": 4
}
