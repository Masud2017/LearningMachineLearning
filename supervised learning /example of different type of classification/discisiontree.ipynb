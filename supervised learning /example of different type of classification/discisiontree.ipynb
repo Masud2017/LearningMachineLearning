{
 "cells": [
  {
   "cell_type": "code",
   "execution_count": 4,
   "metadata": {},
   "outputs": [],
   "source": [
    "#!/usr/bin/python3\n",
    "\n",
    "import pandas as pd\n",
    "import numpy as np\n",
    "import matplotlib as mlt\n",
    "from sklearn import datasets\n",
    "#from sklearn.metircs import confussion_matrix\n",
    "from sklearn.metrics import confusion_matrix\n",
    "from sklearn.model_selection import train_test_split"
   ]
  },
  {
   "cell_type": "code",
   "execution_count": 22,
   "metadata": {},
   "outputs": [],
   "source": [
    "def main():\n",
    "    iris = datasets.load_iris()\n",
    "    X = iris.data\n",
    "    y = iris.target\n",
    "    \n",
    "    X_train, X_test, y_train, y_test = train_test_split(X, y, random_state = 0)\n",
    "    \n",
    "    # descision classifire\n",
    "    \n",
    "    from sklearn.tree import DecisionTreeClassifier\n",
    "    dtree = DecisionTreeClassifier(max_depth = 2).fit(X_train,y_train)\n",
    "    \n",
    "    dtree_predictions = dtree.predict(X_test)\n",
    "    \n",
    "    # visualizing the performance of the algorithm also known as error_matrix\n",
    "    confussion_mat = confusion_matrix(y_test,dtree_predictions)\n",
    "    \n",
    "    print(dtree_predictions)\n",
    "    print(\"Confusion_matrix = \",confussion_mat)\n",
    "    \n",
    "    print(\"Acuracy \",dtree.score(X_test,y_test))\n"
   ]
  },
  {
   "cell_type": "code",
   "execution_count": 23,
   "metadata": {},
   "outputs": [
    {
     "name": "stdout",
     "output_type": "stream",
     "text": [
      "[2 1 0 2 0 2 0 1 1 1 2 1 1 1 1 0 1 1 0 0 1 1 0 0 1 0 0 1 1 0 2 1 0 1 2 1 0\n",
      " 2]\n",
      "Confusion_matrix =  [[13  0  0]\n",
      " [ 0 15  1]\n",
      " [ 0  3  6]]\n",
      "Acuracy  0.8947368421052632\n"
     ]
    }
   ],
   "source": [
    "if __name__ ==\"__main__\":\n",
    "    main()"
   ]
  },
  {
   "cell_type": "code",
   "execution_count": null,
   "metadata": {},
   "outputs": [],
   "source": []
  }
 ],
 "metadata": {
  "kernelspec": {
   "display_name": "Python 3",
   "language": "python",
   "name": "python3"
  },
  "language_info": {
   "codemirror_mode": {
    "name": "ipython",
    "version": 3
   },
   "file_extension": ".py",
   "mimetype": "text/x-python",
   "name": "python",
   "nbconvert_exporter": "python",
   "pygments_lexer": "ipython3",
   "version": "3.9.2"
  }
 },
 "nbformat": 4,
 "nbformat_minor": 4
}
