{
 "cells": [
  {
   "cell_type": "code",
   "execution_count": 34,
   "id": "ac2e4e6b",
   "metadata": {},
   "outputs": [],
   "source": [
    "import nltk\n",
    "import pandas as pd \n",
    "import numpy as np\n",
    "import matplotlib.pyplot as plt\n",
    "from sklearn import datasets\n",
    "import seaborn"
   ]
  },
  {
   "cell_type": "code",
   "execution_count": 41,
   "id": "0f3c93aa",
   "metadata": {},
   "outputs": [],
   "source": [
    "def main():\n",
    "    print(\"Hello world\")\n",
    "    #nltk.download('averaged_perceptron_tagger')\n",
    "    sentence = \"Bagladesh is a werweiruwe country\"\n",
    "    tokens = nltk.word_tokenize(sentence)\n",
    "    print(tokens)\n",
    "    tagged = nltk.pos_tag(tokens)\n",
    "    print(tagged[0:6])\n"
   ]
  },
  {
   "cell_type": "code",
   "execution_count": 42,
   "id": "2bf9a363",
   "metadata": {},
   "outputs": [
    {
     "name": "stdout",
     "output_type": "stream",
     "text": [
      "Hello world\n",
      "['Bagladesh', 'is', 'a', 'werweiruwe', 'country']\n",
      "[('Bagladesh', 'NNP'), ('is', 'VBZ'), ('a', 'DT'), ('werweiruwe', 'JJ'), ('country', 'NN')]\n"
     ]
    }
   ],
   "source": [
    "if __name__ == \"__main__\":\n",
    "    main()"
   ]
  },
  {
   "cell_type": "code",
   "execution_count": null,
   "id": "e8ced95a",
   "metadata": {},
   "outputs": [],
   "source": []
  },
  {
   "cell_type": "code",
   "execution_count": null,
   "id": "fbc0defc",
   "metadata": {},
   "outputs": [],
   "source": []
  }
 ],
 "metadata": {
  "kernelspec": {
   "display_name": "Python 3",
   "language": "python",
   "name": "python3"
  },
  "language_info": {
   "codemirror_mode": {
    "name": "ipython",
    "version": 3
   },
   "file_extension": ".py",
   "mimetype": "text/x-python",
   "name": "python",
   "nbconvert_exporter": "python",
   "pygments_lexer": "ipython3",
   "version": "3.8.8"
  }
 },
 "nbformat": 4,
 "nbformat_minor": 5
}
