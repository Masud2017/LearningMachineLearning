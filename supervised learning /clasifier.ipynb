{
 "cells": [
  {
   "cell_type": "code",
   "execution_count": 2,
   "metadata": {},
   "outputs": [],
   "source": [
    "#!/usr/bin/python3\n",
    "\n",
    "import pandas as pd\n",
    "import numpy as np\n",
    "import matplotlib as mlt\n",
    "from sklearn.linear_model import LinearRegression\n",
    "import json\n",
    "import os\n",
    "import sys\n",
    "import socket"
   ]
  },
  {
   "cell_type": "code",
   "execution_count": 9,
   "metadata": {},
   "outputs": [],
   "source": [
    "# param: port (port number for the socket)\n",
    "# param: addreess -> address of the socket use 0.0.0.0 for use default localhost as socket address\n",
    "def socket_init(port,address):\n",
    "    sock = socket.socket(socket.AF_INET,socket.SOCK_STREAM)\n",
    "    sock.bind((address,port))\n",
    "    sock.listen(1)\n",
    "    conn, addr = sock.accept()\n",
    "    with conn:\n",
    "        print('Connected by', addr)\n",
    "        while True:\n",
    "            data = conn.recv(1024)\n",
    "            if not data: break\n",
    "            conn.sendall(data)\n",
    "            conn.close()\n",
    "    \n",
    "    '''while (True):\n",
    "        new_sock = sock.accept() # wait for an connection\n",
    "        print(\"Data from the client : \"+new_sock.recv())\n",
    "        new_sock.send(b\"Hello world\")'''\n",
    "def main():\n",
    "    print(\"Hello world\")\n",
    "    linear = LinearRegression()\n",
    "    x = ['data','data2']\n"
   ]
  },
  {
   "cell_type": "code",
   "execution_count": 10,
   "metadata": {},
   "outputs": [
    {
     "name": "stdout",
     "output_type": "stream",
     "text": [
      "Hello world\n"
     ]
    }
   ],
   "source": [
    "if __name__ == \"__main__\":\n",
    "    main()\n"
   ]
  },
  {
   "cell_type": "code",
   "execution_count": null,
   "metadata": {},
   "outputs": [],
   "source": []
  }
 ],
 "metadata": {
  "kernelspec": {
   "display_name": "Python 3",
   "language": "python",
   "name": "python3"
  },
  "language_info": {
   "codemirror_mode": {
    "name": "ipython",
    "version": 3
   },
   "file_extension": ".py",
   "mimetype": "text/x-python",
   "name": "python",
   "nbconvert_exporter": "python",
   "pygments_lexer": "ipython3",
   "version": "3.9.2"
  }
 },
 "nbformat": 4,
 "nbformat_minor": 4
}
