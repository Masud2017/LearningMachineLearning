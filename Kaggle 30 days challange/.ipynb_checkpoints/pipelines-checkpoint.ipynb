{
 "cells": [
  {
   "cell_type": "code",
   "execution_count": 41,
   "id": "b1893a61",
   "metadata": {},
   "outputs": [],
   "source": [
    "import pandas as pd \n",
    "import numpy as np\n",
    "\n",
    "from sklearn.compose import ColumnTransformer\n",
    "from sklearn.pipeline import Pipeline\n",
    "from sklearn.impute import SimpleImputer\n",
    "from sklearn.preprocessing import OneHotEncoder\n",
    "from sklearn.model_selection import train_test_split\n",
    "\n",
    "from sklearn.ensemble import RandomForestRegressor\n",
    "from sklearn.metrics import mean_absolute_error\n",
    "\n",
    "\n"
   ]
  },
  {
   "cell_type": "code",
   "execution_count": 42,
   "id": "149b49a0",
   "metadata": {},
   "outputs": [],
   "source": [
    "# Pipeline is contructed in three ways\n",
    "# 1. define preprocessing steps\n",
    "# 2. Define the model \n",
    "# 3. Create and evaluate the pipeline"
   ]
  },
  {
   "cell_type": "code",
   "execution_count": 43,
   "id": "3e3ad1fd",
   "metadata": {
    "scrolled": true
   },
   "outputs": [
    {
     "name": "stdout",
     "output_type": "stream",
     "text": [
      "MAE :  160679.18917034855\n"
     ]
    }
   ],
   "source": [
    "if __name__ == \"__main__\":\n",
    "    data = pd.read_csv(\"melb_data.csv\")\n",
    "    \n",
    "    y = data.Price\n",
    "    X = data.drop(['Price'],axis = 1)\n",
    "    \n",
    "    X_train_full, X_valid_full, y_train, y_valid = train_test_split(X, y, train_size=0.8, test_size=0.2,random_state=0)\n",
    "                          \n",
    "    \n",
    "    # \"Cardinality\" means the number of unique values in a column\n",
    "    # Select categorical columns with relatively low cardinality (convenient but arbitrary)\n",
    "    categorical_cols = [cname for cname in X_train_full.columns if X_train_full[cname].nunique() < 10 and \n",
    "                            X_train_full[cname].dtype == \"object\"]\n",
    "\n",
    "    # Select numerical columns\n",
    "    numerical_cols = [cname for cname in X_train_full.columns if X_train_full[cname].dtype in ['int64', 'float64']]\n",
    "    \n",
    "    my_cols = categorical_cols + numerical_cols\n",
    "    X_train = X_train_full[my_cols].copy()\n",
    "    X_valid = X_valid_full[my_cols].copy()\n",
    "                                                                    \n",
    "    \n",
    "    # Preprocessing for neumerical data\n",
    "    neumerical_transformer = SimpleImputer(strategy = 'constant')\n",
    "    \n",
    "    # Preprocessing for catagorical data\n",
    "    catagorical_transformer = Pipeline(\n",
    "    steps = [\n",
    "        ('imputer',SimpleImputer(strategy='most_frequent')),\n",
    "        ('onehot',OneHotEncoder(handle_unknown = 'ignore'))\n",
    "    ]\n",
    "    )\n",
    "    \n",
    "    # Bundling preprocessing for neumerical and catagorical data \n",
    "    preprocessor = ColumnTransformer(\n",
    "    transformers = [\n",
    "        ('num',neumerical_transformer,numerical_cols),\n",
    "        ('cat',catagorical_transformer,categorical_cols)\n",
    "    ]\n",
    "    )\n",
    "    \n",
    "    # Now Defining the model\n",
    "    model = RandomForestRegressor(n_estimators=100,random_state=0)\n",
    "    \n",
    "    # create and evaluate the pipeline\n",
    "    \n",
    "    # Bundle preprocessing and model in pipeline\n",
    "    my_pipeline = Pipeline(steps=[\n",
    "        ('preprocessing',preprocessor),\n",
    "        ('model',model)\n",
    "    ])\n",
    "\n",
    "    # preprocessing of traing data and fit model\n",
    "    my_pipeline.fit(X_train,y_train)\n",
    "    \n",
    "    # preprocessing of validation data , and get preds\n",
    "    preds = my_pipeline.predict(X_valid)\n",
    "    \n",
    "    # Evaluate the model \n",
    "    score = mean_absolute_error(y_valid,preds)\n",
    "    print(\"MAE : \",score)"
   ]
  },
  {
   "cell_type": "code",
   "execution_count": null,
   "id": "28cb97e3",
   "metadata": {},
   "outputs": [],
   "source": []
  },
  {
   "cell_type": "code",
   "execution_count": null,
   "id": "71711b18",
   "metadata": {},
   "outputs": [],
   "source": []
  }
 ],
 "metadata": {
  "kernelspec": {
   "display_name": "Python 3 (ipykernel)",
   "language": "python",
   "name": "python3"
  },
  "language_info": {
   "codemirror_mode": {
    "name": "ipython",
    "version": 3
   },
   "file_extension": ".py",
   "mimetype": "text/x-python",
   "name": "python",
   "nbconvert_exporter": "python",
   "pygments_lexer": "ipython3",
   "version": "3.9.6"
  }
 },
 "nbformat": 4,
 "nbformat_minor": 5
}
